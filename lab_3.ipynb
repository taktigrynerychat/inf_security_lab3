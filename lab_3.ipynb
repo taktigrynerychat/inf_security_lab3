{
 "cells": [
  {
   "cell_type": "code",
   "execution_count": 1,
   "metadata": {},
   "outputs": [],
   "source": [
    "import string\n",
    "from IPython.core.display import display, HTML\n",
    "import itertools\n",
    "import detectEnglish"
   ]
  },
  {
   "cell_type": "code",
   "execution_count": 2,
   "metadata": {},
   "outputs": [],
   "source": [
    "alphabeth = list(string.ascii_lowercase + ' ' + string.digits)"
   ]
  },
  {
   "cell_type": "code",
   "execution_count": 3,
   "metadata": {},
   "outputs": [],
   "source": [
    "def encrypt(text, gamma):\n",
    "    text = text.lower()\n",
    "    textLen = len(text)\n",
    "    gammaLen = len(gamma)\n",
    "\n",
    "    #Формируем ключевое слово(растягиваем гамму на длину текста)\n",
    "    keyText = []\n",
    "    for i in range(textLen // gammaLen):\n",
    "        for symb in gamma:\n",
    "            keyText.append(symb)\n",
    "    for i in range(textLen % gammaLen):\n",
    "        keyText.append(gamma[i])\n",
    "\n",
    "    #Шифрование\n",
    "    code = []\n",
    "    for i in range(textLen):\n",
    "        code.append(alphabeth[(alphabeth.index(text[i]) + alphabeth.index(keyText[i])) % len(alphabeth)])\n",
    "\n",
    "    return code"
   ]
  },
  {
   "cell_type": "code",
   "execution_count": 4,
   "metadata": {},
   "outputs": [],
   "source": [
    "def decrypt(code, gamma):\n",
    "    codeLen = len(code)\n",
    "    gammaLen = len(gamma)\n",
    "\n",
    "    #Формируем ключевое слово(растягиваем гамму на длину текста)\n",
    "    keyText = []\n",
    "    for i in range(codeLen // gammaLen):\n",
    "        for symb in gamma:\n",
    "            keyText.append(symb)\n",
    "    for i in range(codeLen % gammaLen):\n",
    "        keyText.append(gamma[i])\n",
    "\n",
    "    #Расшифровка\n",
    "    text = []\n",
    "    for i in range(codeLen):\n",
    "        text.append(alphabeth[(alphabeth.index(code[i]) - alphabeth.index(keyText[i]) + len(alphabeth)) % len(alphabeth)]) \n",
    "\n",
    "    return text"
   ]
  },
  {
   "cell_type": "code",
   "execution_count": 5,
   "metadata": {},
   "outputs": [],
   "source": [
    "text = 'hello my name is vlad and the weather is fine'\n",
    "gamma = 'hello'"
   ]
  },
  {
   "cell_type": "code",
   "execution_count": 6,
   "metadata": {},
   "outputs": [
    {
     "data": {
      "text/html": [
       "<h3>зашифрованный текст:</h3> oiww16q8a0hqpawz35wok3lyr6xspd2il3vlvat56jtys"
      ],
      "text/plain": [
       "<IPython.core.display.HTML object>"
      ]
     },
     "metadata": {},
     "output_type": "display_data"
    }
   ],
   "source": [
    "encrypted_text = ''.join(encrypt(text,gamma))\n",
    "display(HTML('<h3>зашифрованный текст:</h3> '+ encrypted_text))"
   ]
  },
  {
   "cell_type": "code",
   "execution_count": 7,
   "metadata": {},
   "outputs": [
    {
     "data": {
      "text/html": [
       "<h3>дешифрованный текст:</h3> hello my name is vlad and the weather is fine"
      ],
      "text/plain": [
       "<IPython.core.display.HTML object>"
      ]
     },
     "metadata": {},
     "output_type": "display_data"
    }
   ],
   "source": [
    "decrypted_text = ''.join(decrypt(encrypted_text, gamma))\n",
    "display(HTML('<h3>дешифрованный текст:</h3> '+ decrypted_text))"
   ]
  },
  {
   "cell_type": "code",
   "execution_count": 8,
   "metadata": {},
   "outputs": [],
   "source": [
    "def get_ic(s): #получение суммы для теста Фридмана (для одного элемента)\n",
    "    return sum(map(lambda x: x*(x-1), [len(list(y)) for x,y in itertools.groupby(sorted(s))])) / len(s) / (len(s)-1)\n",
    " \n",
    "def friedman(s, key_len): #получение индекса для зашифрованной строки и длинны гаммы\n",
    "    return sum([get_ic(s[start::key_len]) for start in range(key_len)]) / key_len \n",
    "\n",
    "def get_gamma_length(): #получение первой подходящей длинны гаммы\n",
    "    for key_len in range(1,len(alphabeth) + 1):\n",
    "        if friedman(encrypted_text, key_len) > 0.053:\n",
    "            return key_len\n",
    "        \n",
    "def get_gamma_arr(): #получение всего массива индексов для возможных длинн гаммы\n",
    "    arr = []\n",
    "    for key_len in range(1,len(alphabeth) + 1):\n",
    "        try:\n",
    "            arr.append({key_len : friedman(encrypted_text, key_len)})\n",
    "        except:\n",
    "            return arr\n",
    "    return arr"
   ]
  },
  {
   "cell_type": "code",
   "execution_count": 9,
   "metadata": {},
   "outputs": [
    {
     "name": "stdout",
     "output_type": "stream",
     "text": [
      "{1: 0.02727272727272727}\n",
      "{2: 0.026821005081874648}\n",
      "{3: 0.022222222222222223}\n",
      "{4: 0.040151515151515146}\n",
      "{5: 0.055555555555555546}\n",
      "{6: 0.025793650793650796}\n",
      "{7: 0.009523809523809523}\n",
      "{8: 0.029166666666666667}\n",
      "{9: 0.0}\n",
      "{10: 0.04666666666666667}\n",
      "{11: 0.0303030303030303}\n",
      "{12: 0.05555555555555555}\n",
      "{13: 0.02564102564102564}\n",
      "{14: 0.0}\n",
      "{15: 0.06666666666666667}\n",
      "{16: 0.041666666666666664}\n",
      "{17: 0.0784313725490196}\n",
      "{18: 0.0}\n",
      "{19: 0.017543859649122806}\n",
      "{20: 0.06666666666666667}\n",
      "{21: 0.0}\n",
      "{22: 0.045454545454545456}\n"
     ]
    },
    {
     "data": {
      "text/html": [
       "<h3>найденная длина гаммы: </h3>5"
      ],
      "text/plain": [
       "<IPython.core.display.HTML object>"
      ]
     },
     "metadata": {},
     "output_type": "display_data"
    }
   ],
   "source": [
    "gammaLen  = get_gamma_length()\n",
    "for ind in get_gamma_arr():\n",
    "    print(ind)\n",
    "display(HTML('<h3>найденная длина гаммы: </h3>' + str(gammaLen)))"
   ]
  },
  {
   "cell_type": "code",
   "execution_count": 10,
   "metadata": {},
   "outputs": [
    {
     "name": "stdout",
     "output_type": "stream",
     "text": [
      "поменять длину гаммы? (y/n)\n"
     ]
    },
    {
     "data": {
      "text/html": [
       "<h3>финальная длина гаммы: </h3>5"
      ],
      "text/plain": [
       "<IPython.core.display.HTML object>"
      ]
     },
     "metadata": {},
     "output_type": "display_data"
    }
   ],
   "source": [
    "answer = str(input('поменять длину гаммы? (y/n)')).lower()\n",
    "if answer == 'y':\n",
    "    gammaLen = int(input('введите новую длину: '))\n",
    "display(HTML('<h3>финальная длина гаммы: </h3>' + str(gammaLen)))"
   ]
  },
  {
   "cell_type": "code",
   "execution_count": 11,
   "metadata": {},
   "outputs": [],
   "source": [
    "def hack(ciphertext): #взлом гамма-шифра\n",
    "    fo = open('dictionary.txt')\n",
    "    words = fo.readlines()\n",
    "    fo.close()\n",
    "    words_arr =[]\n",
    "\n",
    "    for word in words:\n",
    "        word = word.lower().strip()\n",
    "        if len(word) != gammaLen : continue\n",
    "\n",
    "        decryptedText = ''.join(decrypt(ciphertext, word))\n",
    "        if detectEnglish.isEnglish(decryptedText, wordPercentage=40):\n",
    "            return decryptedText\n"
   ]
  },
  {
   "cell_type": "code",
   "execution_count": 12,
   "metadata": {},
   "outputs": [
    {
     "data": {
      "text/html": [
       "<h3>текст для взлома:</h3>oiww16q8a0hqpawz35wok3lyr6xspd2il3vlvat56jtys"
      ],
      "text/plain": [
       "<IPython.core.display.HTML object>"
      ]
     },
     "metadata": {},
     "output_type": "display_data"
    },
    {
     "data": {
      "text/html": [
       "<h3>предполагаемая длинна гаммы:</h3>5"
      ],
      "text/plain": [
       "<IPython.core.display.HTML object>"
      ]
     },
     "metadata": {},
     "output_type": "display_data"
    },
    {
     "data": {
      "text/html": [
       "<h3>результат:</h3>hello my name is vlad and the weather is fine"
      ],
      "text/plain": [
       "<IPython.core.display.HTML object>"
      ]
     },
     "metadata": {},
     "output_type": "display_data"
    }
   ],
   "source": [
    "display(HTML('<h3>текст для взлома:</h3>' + encrypted_text))\n",
    "display(HTML('<h3>предполагаемая длинна гаммы:</h3>' + str(gammaLen)))\n",
    "display(HTML('<h3>результат:</h3>' + str(hack(encrypted_text))))"
   ]
  }
 ],
 "metadata": {
  "kernelspec": {
   "display_name": "Python 3",
   "language": "python",
   "name": "python3"
  },
  "language_info": {
   "codemirror_mode": {
    "name": "ipython",
    "version": 3
   },
   "file_extension": ".py",
   "mimetype": "text/x-python",
   "name": "python",
   "nbconvert_exporter": "python",
   "pygments_lexer": "ipython3",
   "version": "3.7.4"
  }
 },
 "nbformat": 4,
 "nbformat_minor": 2
}
